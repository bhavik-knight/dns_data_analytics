{
  "nbformat": 4,
  "nbformat_minor": 0,
  "metadata": {
    "colab": {
      "provenance": []
    },
    "kernelspec": {
      "name": "python3",
      "display_name": "Python 3"
    },
    "language_info": {
      "name": "python"
    }
  },
  "cells": [
    {
      "cell_type": "markdown",
      "source": [
        "# Week 5"
      ],
      "metadata": {
        "id": "Rvg1JjwEc4OP"
      }
    },
    {
      "cell_type": "markdown",
      "source": [
        "## Variables\n",
        "Python has no command for declaring a variable.\n",
        "\n",
        "A variable is created the moment you first assign a value to it."
      ],
      "metadata": {
        "id": "C-1X2Doi0gbK"
      }
    },
    {
      "cell_type": "code",
      "source": [
        "x = 4       # x is of type int\n",
        "y = \"Sally\" # x is now of type str\n",
        "print(x)\n",
        "print(y)"
      ],
      "metadata": {
        "colab": {
          "base_uri": "https://localhost:8080/"
        },
        "id": "bAXfo6gB1EzO",
        "outputId": "4c99b47f-aef3-48f4-ce80-6457df62f040"
      },
      "execution_count": 6,
      "outputs": [
        {
          "output_type": "stream",
          "name": "stdout",
          "text": [
            "4\n",
            "Sally\n"
          ]
        }
      ]
    },
    {
      "cell_type": "markdown",
      "source": [
        "Algo 1: Add two numbers\n"
      ],
      "metadata": {
        "id": "LxofKKJL4-Ss"
      }
    },
    {
      "cell_type": "code",
      "execution_count": 7,
      "metadata": {
        "colab": {
          "base_uri": "https://localhost:8080/"
        },
        "id": "5ZL5WDlT0BbK",
        "outputId": "747077ee-3fe9-4597-c5cc-ebfbd8e9b2d0"
      },
      "outputs": [
        {
          "output_type": "stream",
          "name": "stdout",
          "text": [
            "12\n"
          ]
        }
      ],
      "source": [
        "x = 5\n",
        "y = 7\n",
        "z = x + y\n",
        "print(z)"
      ]
    },
    {
      "cell_type": "code",
      "source": [
        "z\n",
        "z - 1"
      ],
      "metadata": {
        "colab": {
          "base_uri": "https://localhost:8080/"
        },
        "id": "3XL8aY-15qQ8",
        "outputId": "2c084999-08c9-40ca-ed77-743b686b8f51"
      },
      "execution_count": 8,
      "outputs": [
        {
          "output_type": "execute_result",
          "data": {
            "text/plain": [
              "11"
            ]
          },
          "metadata": {},
          "execution_count": 8
        }
      ]
    },
    {
      "cell_type": "code",
      "source": [
        "print(x+y)"
      ],
      "metadata": {
        "colab": {
          "base_uri": "https://localhost:8080/"
        },
        "id": "sqg8f0pH5tFU",
        "outputId": "451bbb82-9b14-4328-d088-f34f781df6c1"
      },
      "execution_count": 9,
      "outputs": [
        {
          "output_type": "stream",
          "name": "stdout",
          "text": [
            "12\n"
          ]
        }
      ]
    },
    {
      "cell_type": "markdown",
      "source": [
        "## Data Types and Casting"
      ],
      "metadata": {
        "id": "5RvI5VWm0ewW"
      }
    },
    {
      "cell_type": "markdown",
      "source": [
        "Text Type:\t`str` \\\\\n",
        "Numeric Types:\t`int`, `float`, `complex` \\\\\n",
        "Boolean Type:\t`bool` \\\\\n",
        "Sequence Types:\t`list`, `tuple`, `range` \\\\\n",
        "Mapping Type:\t`dict` "
      ],
      "metadata": {
        "id": "RTHpj5O6HjPZ"
      }
    },
    {
      "cell_type": "code",
      "source": [
        "x = str(3)    \n",
        "y = int(3)    \n",
        "z = float(3)  \n",
        "a = True\n",
        "print (x)\n",
        "print (y)\n",
        "print (z)\n",
        "print(a)\n",
        "print(type(x))\n",
        "print(type(y))\n",
        "print(type(z))\n",
        "print(type(a))"
      ],
      "metadata": {
        "colab": {
          "base_uri": "https://localhost:8080/"
        },
        "id": "3RS89rWi7UDj",
        "outputId": "a29e9290-4c65-4ce6-8283-23c16305f645"
      },
      "execution_count": 10,
      "outputs": [
        {
          "output_type": "stream",
          "name": "stdout",
          "text": [
            "3\n",
            "3\n",
            "3.0\n",
            "True\n",
            "<class 'str'>\n",
            "<class 'int'>\n",
            "<class 'float'>\n",
            "<class 'bool'>\n"
          ]
        }
      ]
    },
    {
      "cell_type": "code",
      "source": [
        "x = 3.0"
      ],
      "metadata": {
        "id": "njXkvx7m6s5k"
      },
      "execution_count": 11,
      "outputs": []
    },
    {
      "cell_type": "code",
      "source": [
        "print(type(x))"
      ],
      "metadata": {
        "colab": {
          "base_uri": "https://localhost:8080/"
        },
        "id": "Z4v1vYPs6vdi",
        "outputId": "6c909f89-f05f-4dba-9e1c-3e5f0a54f203"
      },
      "execution_count": 12,
      "outputs": [
        {
          "output_type": "stream",
          "name": "stdout",
          "text": [
            "<class 'float'>\n"
          ]
        }
      ]
    },
    {
      "cell_type": "markdown",
      "source": [
        "### Strings"
      ],
      "metadata": {
        "id": "V-4Tv3upeh4m"
      }
    },
    {
      "cell_type": "markdown",
      "source": [
        "A string, `str`,  is a series of characters. In Python, anything inside quotes is a string. And you can use either single or double quotes. \n",
        "\n",
        "'hello' is the same as \"hello\".\n",
        "\n",
        "You can print the `str` using the `print()` function:"
      ],
      "metadata": {
        "id": "zYNEW5Pf7-Tf"
      }
    },
    {
      "cell_type": "code",
      "source": [
        "print(\"Hello\")\n",
        "a = 'Hello'\n",
        "print(a)\n",
        "b = \"\"\"Lorem ipsum dolor sit amet,\n",
        "consectetur adipiscing elit,\n",
        "sed do eiusmod tempor incididunt\n",
        "ut labore et dolore magna aliqua.\"\"\"\n",
        "print(b)"
      ],
      "metadata": {
        "colab": {
          "base_uri": "https://localhost:8080/"
        },
        "id": "Ih4A5JTT7_0-",
        "outputId": "a5747a1c-d16c-41b7-843a-708a38120de7"
      },
      "execution_count": 13,
      "outputs": [
        {
          "output_type": "stream",
          "name": "stdout",
          "text": [
            "Hello\n",
            "Hello\n",
            "Lorem ipsum dolor sit amet,\n",
            "consectetur adipiscing elit,\n",
            "sed do eiusmod tempor incididunt\n",
            "ut labore et dolore magna aliqua.\n"
          ]
        }
      ]
    },
    {
      "cell_type": "code",
      "source": [
        "# when would you use more than 1 quote ?\n",
        "# \"\"\" triple \"\"\""
      ],
      "metadata": {
        "id": "qERFS5sc6LiL"
      },
      "execution_count": 14,
      "outputs": []
    },
    {
      "cell_type": "markdown",
      "source": [
        "Concatenate strings"
      ],
      "metadata": {
        "id": "vHPSgLBW8s-0"
      }
    },
    {
      "cell_type": "code",
      "source": [
        "a = \"Hello\"\n",
        "b = \"World\"\n",
        "c = a + '\\n' + b\n",
        "print(c)"
      ],
      "metadata": {
        "colab": {
          "base_uri": "https://localhost:8080/"
        },
        "id": "g8TZNbcL8Cwe",
        "outputId": "cc5acaa1-d5dc-4692-f823-5fe729b74438"
      },
      "execution_count": 15,
      "outputs": [
        {
          "output_type": "stream",
          "name": "stdout",
          "text": [
            "Hello\n",
            "World\n"
          ]
        }
      ]
    },
    {
      "cell_type": "markdown",
      "source": [
        "User Input"
      ],
      "metadata": {
        "id": "-L85SzbO9J8S"
      }
    },
    {
      "cell_type": "code",
      "source": [
        "print('Enter your name:')\n",
        "x = input()\n",
        "print('Hello, ' + x)"
      ],
      "metadata": {
        "id": "hbM2FkD59QeS",
        "colab": {
          "base_uri": "https://localhost:8080/"
        },
        "outputId": "f13c007b-6b39-4a1d-f095-b1aafeca597f"
      },
      "execution_count": 16,
      "outputs": [
        {
          "output_type": "stream",
          "name": "stdout",
          "text": [
            "Enter your name:\n",
            "Harsh\n",
            "Hello, Harsh\n"
          ]
        }
      ]
    },
    {
      "cell_type": "code",
      "source": [
        "# Accessing one particular index\n",
        "s = 'Hello World'"
      ],
      "metadata": {
        "id": "2vjcwQjFvLDa"
      },
      "execution_count": 17,
      "outputs": []
    },
    {
      "cell_type": "code",
      "source": [
        "# slicing\n",
        "s1 = s[:2]\n",
        "print(f's1: {s1}')\n",
        "\n",
        "s2 = s[2:-2]\n",
        "print(f's2: {s2}')"
      ],
      "metadata": {
        "id": "o6ZqSG1SB4bE",
        "colab": {
          "base_uri": "https://localhost:8080/"
        },
        "outputId": "ce557cf4-f98d-431d-9593-501e133b40ef"
      },
      "execution_count": 18,
      "outputs": [
        {
          "output_type": "stream",
          "name": "stdout",
          "text": [
            "s1: He\n",
            "s2: llo Wor\n"
          ]
        }
      ]
    },
    {
      "cell_type": "code",
      "source": [
        "# immutability\n",
        "s[2] = 'a'"
      ],
      "metadata": {
        "id": "SGg-kfd8B5Vs",
        "colab": {
          "base_uri": "https://localhost:8080/",
          "height": 182
        },
        "outputId": "3527bb9a-62cb-4901-95a2-c306b2dad1e4"
      },
      "execution_count": 19,
      "outputs": [
        {
          "output_type": "error",
          "ename": "TypeError",
          "evalue": "ignored",
          "traceback": [
            "\u001b[0;31m---------------------------------------------------------------------------\u001b[0m",
            "\u001b[0;31mTypeError\u001b[0m                                 Traceback (most recent call last)",
            "\u001b[0;32m<ipython-input-19-b25a6eb1300f>\u001b[0m in \u001b[0;36m<module>\u001b[0;34m\u001b[0m\n\u001b[1;32m      1\u001b[0m \u001b[0;31m# immutability\u001b[0m\u001b[0;34m\u001b[0m\u001b[0;34m\u001b[0m\u001b[0;34m\u001b[0m\u001b[0m\n\u001b[0;32m----> 2\u001b[0;31m \u001b[0ms\u001b[0m\u001b[0;34m[\u001b[0m\u001b[0;36m2\u001b[0m\u001b[0;34m]\u001b[0m \u001b[0;34m=\u001b[0m \u001b[0;34m'a'\u001b[0m\u001b[0;34m\u001b[0m\u001b[0;34m\u001b[0m\u001b[0m\n\u001b[0m",
            "\u001b[0;31mTypeError\u001b[0m: 'str' object does not support item assignment"
          ]
        }
      ]
    },
    {
      "cell_type": "code",
      "source": [
        "# how would you 'change' one letter"
      ],
      "metadata": {
        "id": "-zLLhHSgCBrV"
      },
      "execution_count": 20,
      "outputs": []
    },
    {
      "cell_type": "code",
      "source": [
        "a = \"Hello, World!\"\n",
        "print(a.replace(\"H\", \"J\"))"
      ],
      "metadata": {
        "colab": {
          "base_uri": "https://localhost:8080/"
        },
        "id": "VdulEupZeRaz",
        "outputId": "a2aa068a-3d4d-41b5-9e78-6f83ed3a1cde"
      },
      "execution_count": 21,
      "outputs": [
        {
          "output_type": "stream",
          "name": "stdout",
          "text": [
            "Jello, World!\n"
          ]
        }
      ]
    },
    {
      "cell_type": "markdown",
      "source": [
        "##Conditional Statements\n",
        "Logical conditions: \\\\\n",
        "\n",
        "Equals (est égal à): a == b \\\\\n",
        "Not Equals (n'est pas égal à): a != b \\\\\n",
        "Less than (est moins que): a < b \\\\\n",
        "Less than or equal to: a <= b \\\\\n",
        "Greater than (est plus grand que): a > b \\\\\n",
        "Greater than or equal to: a >= b \\\\\n",
        "\n",
        "We use the instruction `if`.\n",
        "\n",
        "\n",
        "\n"
      ],
      "metadata": {
        "id": "XkjLgVGa-csO"
      }
    },
    {
      "cell_type": "code",
      "source": [
        "x = 5"
      ],
      "metadata": {
        "id": "2mjzEO3e8azC"
      },
      "execution_count": null,
      "outputs": []
    },
    {
      "cell_type": "code",
      "source": [
        "x != 4"
      ],
      "metadata": {
        "colab": {
          "base_uri": "https://localhost:8080/"
        },
        "id": "8B1uJIkd8a9L",
        "outputId": "539f769a-e02d-40b9-87ec-e8966063db64"
      },
      "execution_count": null,
      "outputs": [
        {
          "output_type": "execute_result",
          "data": {
            "text/plain": [
              "True"
            ]
          },
          "metadata": {},
          "execution_count": 21
        }
      ]
    },
    {
      "cell_type": "code",
      "source": [
        "a = 33\n",
        "b = 200\n",
        "if b < a:\n",
        "  print(\"b is greater than a\")\n",
        "  print('abc')"
      ],
      "metadata": {
        "id": "Drn7mtk5_E7A"
      },
      "execution_count": null,
      "outputs": []
    },
    {
      "cell_type": "code",
      "source": [
        "b < a"
      ],
      "metadata": {
        "colab": {
          "base_uri": "https://localhost:8080/"
        },
        "id": "o42664yk9GbH",
        "outputId": "6867aec6-9edc-46b8-c081-23b967974dba"
      },
      "execution_count": null,
      "outputs": [
        {
          "output_type": "execute_result",
          "data": {
            "text/plain": [
              "False"
            ]
          },
          "metadata": {},
          "execution_count": 23
        }
      ]
    },
    {
      "cell_type": "markdown",
      "source": [
        "`elif`: if the previous condition is false, try this"
      ],
      "metadata": {
        "id": "CvnmgplQ_ove"
      }
    },
    {
      "cell_type": "code",
      "source": [
        "a = 200\n",
        "b = 33\n",
        "if b > a:\n",
        "  print(\"b is greater than a\")\n",
        "elif a == b:\n",
        "  print(\"a and b are equal\")\n",
        "else:\n",
        "  print(\"a is greater than b\")"
      ],
      "metadata": {
        "colab": {
          "base_uri": "https://localhost:8080/"
        },
        "id": "JPYrJz5d_pvp",
        "outputId": "1c4f1275-50d0-4bfb-990a-a61a6b870fb3"
      },
      "execution_count": null,
      "outputs": [
        {
          "output_type": "stream",
          "name": "stdout",
          "text": [
            "a is greater than b\n"
          ]
        }
      ]
    },
    {
      "cell_type": "markdown",
      "source": [
        "### Logical operators `or` and `and`"
      ],
      "metadata": {
        "id": "EhAqwHEPITTu"
      }
    },
    {
      "cell_type": "code",
      "source": [
        "a = 200\n",
        "b = 33\n",
        "c = 500\n",
        "if a < b or a < c:\n",
        "  print(\"At least one of the conditions is True\")"
      ],
      "metadata": {
        "id": "4AMwKWMlAGAe",
        "colab": {
          "base_uri": "https://localhost:8080/"
        },
        "outputId": "492155dc-433b-47c3-a743-ac55339aa7de"
      },
      "execution_count": null,
      "outputs": [
        {
          "output_type": "stream",
          "name": "stdout",
          "text": [
            "At least one of the conditions is True\n"
          ]
        }
      ]
    },
    {
      "cell_type": "code",
      "source": [
        "if a>b and b<c:\n",
        "    print(\"both conditions are true\")"
      ],
      "metadata": {
        "colab": {
          "base_uri": "https://localhost:8080/"
        },
        "id": "dpFqp8gL-Ldj",
        "outputId": "bdd1ca18-43f4-4554-b54f-9a58f4e4d22e"
      },
      "execution_count": null,
      "outputs": [
        {
          "output_type": "stream",
          "name": "stdout",
          "text": [
            "both conditions are true\n"
          ]
        }
      ]
    },
    {
      "cell_type": "code",
      "source": [
        "if a > 100:\n",
        "    print(\"A\")\n",
        "if b > 10:\n",
        "    print(\"B\")\n",
        "    a = 0\n",
        "else: \n",
        "    print(\"Z\")"
      ],
      "metadata": {
        "colab": {
          "base_uri": "https://localhost:8080/"
        },
        "id": "A20o6XgAuK-c",
        "outputId": "7486116d-fac4-4dcc-f2a9-1963da936c69"
      },
      "execution_count": null,
      "outputs": [
        {
          "output_type": "stream",
          "name": "stdout",
          "text": [
            "A\n",
            "B\n"
          ]
        }
      ]
    },
    {
      "cell_type": "code",
      "source": [
        "if a > 100:\n",
        "    print(\"A\")\n",
        "elif b > 10:\n",
        "    print(\"B\")\n",
        "    a = 0\n",
        "else: \n",
        "    print(\"Z\")"
      ],
      "metadata": {
        "colab": {
          "base_uri": "https://localhost:8080/"
        },
        "id": "G8hufEzjueoB",
        "outputId": "75bb724f-ddab-475f-bc5d-6406508a4687"
      },
      "execution_count": null,
      "outputs": [
        {
          "output_type": "stream",
          "name": "stdout",
          "text": [
            "B\n"
          ]
        }
      ]
    },
    {
      "cell_type": "markdown",
      "source": [
        "Greatest of three"
      ],
      "metadata": {
        "id": "ATgdTWW1ApeB"
      }
    },
    {
      "cell_type": "code",
      "source": [
        "a = int(input(\"Enter a? \"));  \n",
        "b = int(input(\"Enter b? \"));  \n",
        "c = int(input(\"Enter c? \"));  \n",
        "if a>b and a>c:  \n",
        "    print(\"a is largest\");  \n",
        "if b>a and b>c:  \n",
        "    print(\"b is largest\");  \n",
        "if c>a and c>b:  \n",
        "    print(\"c is largest\");  "
      ],
      "metadata": {
        "id": "nMlhe5UFAoyN",
        "colab": {
          "base_uri": "https://localhost:8080/"
        },
        "outputId": "0c66a5f8-d094-40d1-f50b-d42c79bc3b68"
      },
      "execution_count": null,
      "outputs": [
        {
          "output_type": "stream",
          "name": "stdout",
          "text": [
            "Enter a? 2\n",
            "Enter b? 1\n",
            "Enter c? 3\n",
            "c is largest\n"
          ]
        }
      ]
    },
    {
      "cell_type": "markdown",
      "source": [
        "##Import\n",
        "\n",
        "In Python, you use the import keyword to make code in one module available in another. Imports in Python are important for structuring your code effectively. Using imports properly will make you more productive, allowing you to reuse code while keeping your projects maintainable"
      ],
      "metadata": {
        "id": "do7s9o0aBBoq"
      }
    },
    {
      "cell_type": "code",
      "source": [
        "import random\n",
        "roll = random.randint(1,100)\n",
        "print (\"Number rolled is\" + ' ' + str(roll) )"
      ],
      "metadata": {
        "id": "TQi9QhaRBDEn",
        "colab": {
          "base_uri": "https://localhost:8080/"
        },
        "outputId": "92ff2304-68d0-407b-8e0f-8cd8c9268bd5"
      },
      "execution_count": null,
      "outputs": [
        {
          "output_type": "stream",
          "name": "stdout",
          "text": [
            "Number rolled is 32\n"
          ]
        }
      ]
    },
    {
      "cell_type": "markdown",
      "source": [
        "## List\n",
        "\n",
        "Lists are used to store multiple items in a single variable.\n",
        "\n",
        "**Lists** are one of 4 built-in data types in Python used to store collections of data, the other 3 are **Tuple**, **Set**, and **Dictionary**, all with different qualities and usage.\n",
        "\n",
        "Lists are created using square brackets:"
      ],
      "metadata": {
        "id": "QyJhP83QD-Yf"
      }
    },
    {
      "cell_type": "code",
      "source": [
        "thislist = [\"apple\", \"banana\", \"cherry\"]\n",
        "print(thislist)\n",
        "print(len(thislist)) # len = length - taille"
      ],
      "metadata": {
        "colab": {
          "base_uri": "https://localhost:8080/"
        },
        "id": "BnFEFIlfES1V",
        "outputId": "af97e77b-b833-447f-aac3-64320983f51f"
      },
      "execution_count": null,
      "outputs": [
        {
          "output_type": "stream",
          "name": "stdout",
          "text": [
            "['apple', 'banana', 'cherry']\n",
            "3\n"
          ]
        }
      ]
    },
    {
      "cell_type": "code",
      "source": [
        "mylist = [\"apple\", \"banana\", \"cherry\", 3, True]\n",
        "print(mylist)"
      ],
      "metadata": {
        "colab": {
          "base_uri": "https://localhost:8080/"
        },
        "id": "UzzIU6Nwwv9F",
        "outputId": "8ae7397a-2694-4329-eab4-27c080b4e106"
      },
      "execution_count": null,
      "outputs": [
        {
          "output_type": "stream",
          "name": "stdout",
          "text": [
            "['apple', 'banana', 'cherry', 3, True]\n"
          ]
        }
      ]
    },
    {
      "cell_type": "code",
      "source": [
        "## indexing\n",
        "print(mylist[1])"
      ],
      "metadata": {
        "id": "bG94jmmQwv_c",
        "colab": {
          "base_uri": "https://localhost:8080/"
        },
        "outputId": "09a83eb6-7ebb-4204-8c97-a9b11f477a3e"
      },
      "execution_count": null,
      "outputs": [
        {
          "output_type": "stream",
          "name": "stdout",
          "text": [
            "banana\n"
          ]
        }
      ]
    },
    {
      "cell_type": "code",
      "source": [
        "## modifying\n",
        "mylist[0] = 'Apple'"
      ],
      "metadata": {
        "id": "kQfuORWR1dHg"
      },
      "execution_count": null,
      "outputs": []
    },
    {
      "cell_type": "code",
      "source": [
        "print(mylist)"
      ],
      "metadata": {
        "colab": {
          "base_uri": "https://localhost:8080/"
        },
        "id": "11j8T-_WAk0d",
        "outputId": "1f6531d6-7417-4413-a38b-06a7d1ef3a4c"
      },
      "execution_count": null,
      "outputs": [
        {
          "output_type": "stream",
          "name": "stdout",
          "text": [
            "['Apple', 'banana', 'cherry', 3, True]\n"
          ]
        }
      ]
    },
    {
      "cell_type": "code",
      "source": [
        "## adding\n",
        "mylist.append('orange')"
      ],
      "metadata": {
        "id": "HNbmZnt6wwCU"
      },
      "execution_count": null,
      "outputs": []
    },
    {
      "cell_type": "code",
      "source": [
        "print(mylist)"
      ],
      "metadata": {
        "colab": {
          "base_uri": "https://localhost:8080/"
        },
        "id": "gNmKlpRIAuQi",
        "outputId": "2ee080fc-2d45-439a-d144-be5650fd96f8"
      },
      "execution_count": null,
      "outputs": [
        {
          "output_type": "stream",
          "name": "stdout",
          "text": [
            "['Apple', 'banana', 'cherry', 3, True, 'orange']\n"
          ]
        }
      ]
    },
    {
      "cell_type": "code",
      "source": [
        "## removing\n",
        "mylist.remove('orange')\n",
        "print(mylist)"
      ],
      "metadata": {
        "id": "Y7bQo05ow-5J",
        "colab": {
          "base_uri": "https://localhost:8080/"
        },
        "outputId": "7bb93ed8-4d1d-4588-b9bc-99662354ab59"
      },
      "execution_count": null,
      "outputs": [
        {
          "output_type": "stream",
          "name": "stdout",
          "text": [
            "['Apple', 'banana', 'cherry', 3, True]\n"
          ]
        }
      ]
    },
    {
      "cell_type": "code",
      "source": [
        "mylist.pop()"
      ],
      "metadata": {
        "colab": {
          "base_uri": "https://localhost:8080/"
        },
        "id": "efG8u3Yx3BvF",
        "outputId": "1e03516b-116c-4f0d-f95b-b2186a6958f5"
      },
      "execution_count": null,
      "outputs": [
        {
          "output_type": "execute_result",
          "data": {
            "text/plain": [
              "True"
            ]
          },
          "metadata": {},
          "execution_count": 39
        }
      ]
    },
    {
      "cell_type": "code",
      "source": [
        "print(mylist)"
      ],
      "metadata": {
        "colab": {
          "base_uri": "https://localhost:8080/"
        },
        "id": "CUpcScTQ3Eq5",
        "outputId": "f90bc9aa-dd9f-4aa5-e146-5f4fbeea53d1"
      },
      "execution_count": null,
      "outputs": [
        {
          "output_type": "stream",
          "name": "stdout",
          "text": [
            "['Apple', 'banana', 'cherry', 3]\n"
          ]
        }
      ]
    },
    {
      "cell_type": "code",
      "source": [
        "## removing at an index\n",
        "mylist.pop(0)"
      ],
      "metadata": {
        "id": "OgXF-XeoxDOU",
        "colab": {
          "base_uri": "https://localhost:8080/",
          "height": 35
        },
        "outputId": "53ec3766-d646-47c4-8714-f02c0ff63eb8"
      },
      "execution_count": null,
      "outputs": [
        {
          "output_type": "execute_result",
          "data": {
            "text/plain": [
              "'Apple'"
            ],
            "application/vnd.google.colaboratory.intrinsic+json": {
              "type": "string"
            }
          },
          "metadata": {},
          "execution_count": 41
        }
      ]
    },
    {
      "cell_type": "code",
      "source": [
        "print(mylist)"
      ],
      "metadata": {
        "colab": {
          "base_uri": "https://localhost:8080/"
        },
        "id": "vpSfkx1R3Xbh",
        "outputId": "39f8b1ec-5291-404f-d711-3c16cd9eb2a0"
      },
      "execution_count": null,
      "outputs": [
        {
          "output_type": "stream",
          "name": "stdout",
          "text": [
            "['banana', 'cherry', 3]\n"
          ]
        }
      ]
    },
    {
      "cell_type": "markdown",
      "source": [
        "## Tuple A tuple is a collection which is ordered and unchangeable.\n",
        "\n",
        "Tuples are written with round brackets."
      ],
      "metadata": {
        "id": "J3_3fRthILi9"
      }
    },
    {
      "cell_type": "code",
      "source": [
        "mytuple = (5,1,4)"
      ],
      "metadata": {
        "id": "l81iz3jVIMz9"
      },
      "execution_count": 23,
      "outputs": []
    },
    {
      "cell_type": "code",
      "source": [
        "for i in mytuple:\n",
        "    print(i)"
      ],
      "metadata": {
        "colab": {
          "base_uri": "https://localhost:8080/"
        },
        "id": "RIaXtRvhIPaE",
        "outputId": "22a38222-da15-426e-a37c-181550ec8bc8"
      },
      "execution_count": 24,
      "outputs": [
        {
          "output_type": "stream",
          "name": "stdout",
          "text": [
            "5\n",
            "1\n",
            "4\n"
          ]
        }
      ]
    },
    {
      "cell_type": "code",
      "source": [
        "mytuple[0] = 3"
      ],
      "metadata": {
        "colab": {
          "base_uri": "https://localhost:8080/",
          "height": 165
        },
        "id": "1fl9xZNDIcRD",
        "outputId": "42a885bf-37eb-450e-97ed-23a0d7146833"
      },
      "execution_count": 27,
      "outputs": [
        {
          "output_type": "error",
          "ename": "TypeError",
          "evalue": "ignored",
          "traceback": [
            "\u001b[0;31m---------------------------------------------------------------------------\u001b[0m",
            "\u001b[0;31mTypeError\u001b[0m                                 Traceback (most recent call last)",
            "\u001b[0;32m<ipython-input-27-7c5144eae03d>\u001b[0m in \u001b[0;36m<module>\u001b[0;34m\u001b[0m\n\u001b[0;32m----> 1\u001b[0;31m \u001b[0mmytuple\u001b[0m\u001b[0;34m[\u001b[0m\u001b[0;36m0\u001b[0m\u001b[0;34m]\u001b[0m \u001b[0;34m=\u001b[0m \u001b[0;36m3\u001b[0m\u001b[0;34m\u001b[0m\u001b[0;34m\u001b[0m\u001b[0m\n\u001b[0m",
            "\u001b[0;31mTypeError\u001b[0m: 'tuple' object does not support item assignment"
          ]
        }
      ]
    },
    {
      "cell_type": "code",
      "source": [
        "mytuple.append(1)"
      ],
      "metadata": {
        "colab": {
          "base_uri": "https://localhost:8080/",
          "height": 165
        },
        "id": "hjRAdS6BIXmw",
        "outputId": "0768fd1f-bed0-4320-9a0f-d0688b17c55f"
      },
      "execution_count": 28,
      "outputs": [
        {
          "output_type": "error",
          "ename": "AttributeError",
          "evalue": "ignored",
          "traceback": [
            "\u001b[0;31m---------------------------------------------------------------------------\u001b[0m",
            "\u001b[0;31mAttributeError\u001b[0m                            Traceback (most recent call last)",
            "\u001b[0;32m<ipython-input-28-082a7ea72a51>\u001b[0m in \u001b[0;36m<module>\u001b[0;34m\u001b[0m\n\u001b[0;32m----> 1\u001b[0;31m \u001b[0mmytuple\u001b[0m\u001b[0;34m.\u001b[0m\u001b[0mappend\u001b[0m\u001b[0;34m(\u001b[0m\u001b[0;36m1\u001b[0m\u001b[0;34m)\u001b[0m\u001b[0;34m\u001b[0m\u001b[0;34m\u001b[0m\u001b[0m\n\u001b[0m",
            "\u001b[0;31mAttributeError\u001b[0m: 'tuple' object has no attribute 'append'"
          ]
        }
      ]
    },
    {
      "cell_type": "markdown",
      "source": [
        "While tuples are immutable, we still can concatenate and slice them"
      ],
      "metadata": {
        "id": "TsPDppq-1XCX"
      }
    },
    {
      "cell_type": "code",
      "source": [
        "a = (1, 2, 3)\n",
        "b = a + (4, 5, 6)  # (1, 2, 3, 4, 5, 6)\n",
        "c = b[1:]  # (2, 3, 4, 5, 6)"
      ],
      "metadata": {
        "id": "_QR9DfFj0yzv"
      },
      "execution_count": 29,
      "outputs": []
    },
    {
      "cell_type": "code",
      "source": [
        "print(f'a: {a}')\n",
        "print(f'b: {b}')\n",
        "print(f'c: {c}')"
      ],
      "metadata": {
        "colab": {
          "base_uri": "https://localhost:8080/"
        },
        "id": "ZvAme7mZ3b07",
        "outputId": "fac839b3-b29b-4578-eb21-bcfcfd87eb31"
      },
      "execution_count": 30,
      "outputs": [
        {
          "output_type": "stream",
          "name": "stdout",
          "text": [
            "a: (1, 2, 3)\n",
            "b: (1, 2, 3, 4, 5, 6)\n",
            "c: (2, 3, 4, 5, 6)\n"
          ]
        }
      ]
    },
    {
      "cell_type": "markdown",
      "source": [
        "## Loops\n",
        "\n",
        "\n",
        "\n",
        "\n",
        "\n"
      ],
      "metadata": {
        "id": "_Q88mEslFQvX"
      }
    },
    {
      "cell_type": "markdown",
      "source": [
        "### While loop\n",
        "With the `while` loop we can execute a set of statements as long as a condition is true. \\\\"
      ],
      "metadata": {
        "id": "QNbVomaEJz14"
      }
    },
    {
      "cell_type": "code",
      "source": [
        "i = 1\n",
        "while i < 6:\n",
        "  print(i)\n",
        "  i = i + 1"
      ],
      "metadata": {
        "colab": {
          "base_uri": "https://localhost:8080/"
        },
        "id": "oeGiYl7gFlaK",
        "outputId": "7e8cc5db-7eb0-44bb-955c-0bfac2ed0956"
      },
      "execution_count": null,
      "outputs": [
        {
          "output_type": "stream",
          "name": "stdout",
          "text": [
            "1\n",
            "2\n",
            "3\n",
            "4\n",
            "5\n"
          ]
        }
      ]
    },
    {
      "cell_type": "markdown",
      "source": [
        "With the `break` statement we can stop the loop even if the while condition is true:"
      ],
      "metadata": {
        "id": "RgvBk97fJvnn"
      }
    },
    {
      "cell_type": "code",
      "source": [
        "i = 1\n",
        "while i < 6:\n",
        "  print(i)\n",
        "  if i == 3:\n",
        "    break\n",
        "  i += 1"
      ],
      "metadata": {
        "colab": {
          "base_uri": "https://localhost:8080/"
        },
        "id": "hoffq0ThJxii",
        "outputId": "fcafcdf9-f266-42d7-c696-1123765479a0"
      },
      "execution_count": null,
      "outputs": [
        {
          "output_type": "stream",
          "name": "stdout",
          "text": [
            "1\n",
            "2\n",
            "3\n"
          ]
        }
      ]
    },
    {
      "cell_type": "markdown",
      "source": [
        "With the `continue` statement we can stop the current iteration, and continue with the next:"
      ],
      "metadata": {
        "id": "Dc3nvcjGJ763"
      }
    },
    {
      "cell_type": "code",
      "source": [
        "i = 0\n",
        "while i < 6:\n",
        "  i += 1\n",
        "  if i == 3:\n",
        "    continue\n",
        "  print(i)"
      ],
      "metadata": {
        "colab": {
          "base_uri": "https://localhost:8080/"
        },
        "id": "AoV_Mnz6KCE0",
        "outputId": "47c6d239-effd-4062-d847-f7b17dfa92d6"
      },
      "execution_count": null,
      "outputs": [
        {
          "output_type": "stream",
          "name": "stdout",
          "text": [
            "1\n",
            "2\n",
            "4\n",
            "5\n",
            "6\n"
          ]
        }
      ]
    },
    {
      "cell_type": "markdown",
      "source": [
        "### For loop\n",
        "A `for` loop is used for iterating over a sequence (that is either a list, a tuple, a dictionary, a set, or a string)."
      ],
      "metadata": {
        "id": "55SJYkaxKNty"
      }
    },
    {
      "cell_type": "code",
      "source": [
        "fruits = [\"apple\", \"banana\", \"cherry\"]\n",
        "for x in fruits:\n",
        "  print(x)"
      ],
      "metadata": {
        "colab": {
          "base_uri": "https://localhost:8080/"
        },
        "id": "Nz3OfTaeKVZJ",
        "outputId": "1f48e956-062b-4c50-bf93-dd3f116a6bf5"
      },
      "execution_count": null,
      "outputs": [
        {
          "output_type": "stream",
          "name": "stdout",
          "text": [
            "apple\n",
            "banana\n",
            "cherry\n"
          ]
        }
      ]
    },
    {
      "cell_type": "markdown",
      "source": [
        "###Range ()\n",
        "To loop through a set of code a specified number of times, we can use the `range()` function. \n",
        "\n",
        "\n",
        "The `range()` function returns a sequence of numbers, starting from 0 by default, and increments by 1 (by default), and ends at a specified number."
      ],
      "metadata": {
        "id": "2TG3hqhrGHHz"
      }
    },
    {
      "cell_type": "code",
      "source": [
        "print(range(5))"
      ],
      "metadata": {
        "colab": {
          "base_uri": "https://localhost:8080/"
        },
        "id": "4_3PRGT6ySvO",
        "outputId": "1740d110-0a8b-457b-921a-3777f243fb63"
      },
      "execution_count": null,
      "outputs": [
        {
          "output_type": "stream",
          "name": "stdout",
          "text": [
            "range(0, 5)\n"
          ]
        }
      ]
    },
    {
      "cell_type": "code",
      "source": [
        "print(list(range(5)))"
      ],
      "metadata": {
        "colab": {
          "base_uri": "https://localhost:8080/"
        },
        "id": "PpJnkrHpx3Oq",
        "outputId": "38aaf710-ee27-4efb-a6fb-76050e15418b"
      },
      "execution_count": null,
      "outputs": [
        {
          "output_type": "stream",
          "name": "stdout",
          "text": [
            "[0, 1, 2, 3, 4]\n"
          ]
        }
      ]
    },
    {
      "cell_type": "code",
      "source": [
        "print(list(range(1,5)))"
      ],
      "metadata": {
        "colab": {
          "base_uri": "https://localhost:8080/"
        },
        "id": "pmJZec58yLxL",
        "outputId": "534636e1-11b9-4abd-81e3-5f3aa7b6c4b5"
      },
      "execution_count": null,
      "outputs": [
        {
          "output_type": "stream",
          "name": "stdout",
          "text": [
            "[1, 2, 3, 4]\n"
          ]
        }
      ]
    },
    {
      "cell_type": "code",
      "source": [
        "# 1; 1+1 = 2; 2+1 = 3 ..."
      ],
      "metadata": {
        "id": "gf1mq1bFDqyl"
      },
      "execution_count": null,
      "outputs": []
    },
    {
      "cell_type": "code",
      "source": [
        "print(list(range(1,10,2)))"
      ],
      "metadata": {
        "colab": {
          "base_uri": "https://localhost:8080/"
        },
        "id": "yhEW-qEPyPuW",
        "outputId": "6f29e46f-7233-4477-87c6-152b75930b16"
      },
      "execution_count": null,
      "outputs": [
        {
          "output_type": "stream",
          "name": "stdout",
          "text": [
            "[1, 3, 5, 7, 9]\n"
          ]
        }
      ]
    },
    {
      "cell_type": "code",
      "source": [
        "#1 ; 1+2 = 3; 3+2=5 ; 5+2 ..."
      ],
      "metadata": {
        "id": "pAc53rDMDq0v"
      },
      "execution_count": null,
      "outputs": []
    },
    {
      "cell_type": "code",
      "source": [
        "for x in range(1,6):\n",
        "  print(x)\n"
      ],
      "metadata": {
        "colab": {
          "base_uri": "https://localhost:8080/"
        },
        "id": "crIIAbFjGM4_",
        "outputId": "27c18a61-d6fc-4d05-c788-aec594445110"
      },
      "execution_count": null,
      "outputs": [
        {
          "output_type": "stream",
          "name": "stdout",
          "text": [
            "1\n",
            "2\n",
            "3\n",
            "4\n",
            "5\n"
          ]
        }
      ]
    },
    {
      "cell_type": "markdown",
      "source": [
        "## Dictionaries\n",
        "\n",
        "Dictionaries are used to store data values in key:value pairs.\n",
        "\n",
        "A dictionary is a collection which is ordered*, changeable and do not allow duplicates.\n",
        "\n",
        "As of Python version 3.7, dictionaries are ordered. In Python 3.6 and earlier, dictionaries are unordered.\n",
        "\n",
        "Dictionaries are written with curly brackets, and have keys and values.\n",
        "\n",
        "Keys MUST be unique"
      ],
      "metadata": {
        "id": "e_bve03nHJ32"
      }
    },
    {
      "cell_type": "code",
      "source": [
        "thisdict = {\n",
        "  \"brand\": \"Ford\",\n",
        "  \"model\": \"Mustang\",\n",
        "  \"year\": 1964\n",
        "}\n",
        "print(thisdict)"
      ],
      "metadata": {
        "colab": {
          "base_uri": "https://localhost:8080/"
        },
        "id": "Em4YdAkAHQHd",
        "outputId": "1bf361bb-e52e-4940-d4a2-298e9c67e98c"
      },
      "execution_count": null,
      "outputs": [
        {
          "output_type": "stream",
          "name": "stdout",
          "text": [
            "{'brand': 'Ford', 'model': 'Mustang', 'year': 1964}\n"
          ]
        }
      ]
    },
    {
      "cell_type": "code",
      "source": [
        "# get a value\n",
        "x = thisdict[\"model\"]\n",
        "print(x)"
      ],
      "metadata": {
        "colab": {
          "base_uri": "https://localhost:8080/"
        },
        "id": "WuJGRRbmy5-8",
        "outputId": "79a043bb-1e23-4968-9cfa-5e60a601aca7"
      },
      "execution_count": null,
      "outputs": [
        {
          "output_type": "stream",
          "name": "stdout",
          "text": [
            "Mustang\n"
          ]
        }
      ]
    },
    {
      "cell_type": "code",
      "source": [
        "# change a value\n",
        "thisdict[\"year\"] = 2018\n",
        "print(thisdict)"
      ],
      "metadata": {
        "colab": {
          "base_uri": "https://localhost:8080/"
        },
        "id": "wjp1ZS4Xzf6W",
        "outputId": "c8b5ed0b-2655-474b-8154-3ae3def37e35"
      },
      "execution_count": null,
      "outputs": [
        {
          "output_type": "stream",
          "name": "stdout",
          "text": [
            "{'brand': 'Ford', 'model': 'Mustang', 'year': 2018}\n"
          ]
        }
      ]
    },
    {
      "cell_type": "code",
      "source": [
        "# add a key\n",
        "thisdict[\"color\"] = \"red\"\n",
        "print(thisdict)"
      ],
      "metadata": {
        "colab": {
          "base_uri": "https://localhost:8080/"
        },
        "id": "_Tam6AClzf9C",
        "outputId": "a6ed6209-7c54-441e-defc-f2f3503b0fe4"
      },
      "execution_count": null,
      "outputs": [
        {
          "output_type": "stream",
          "name": "stdout",
          "text": [
            "{'brand': 'Ford', 'model': 'Mustang', 'year': 2018, 'color': 'red'}\n"
          ]
        }
      ]
    },
    {
      "cell_type": "code",
      "source": [
        "# deleting\n",
        "thisdict.pop('year')"
      ],
      "metadata": {
        "colab": {
          "base_uri": "https://localhost:8080/"
        },
        "id": "cwzzGMb0zDuV",
        "outputId": "bd0a522d-b1d5-49b7-fe01-55dbdd56cfd2"
      },
      "execution_count": null,
      "outputs": [
        {
          "output_type": "execute_result",
          "data": {
            "text/plain": [
              "2018"
            ]
          },
          "metadata": {},
          "execution_count": 64
        }
      ]
    },
    {
      "cell_type": "code",
      "source": [
        "print(thisdict)"
      ],
      "metadata": {
        "colab": {
          "base_uri": "https://localhost:8080/"
        },
        "id": "ogtpYetYzH8R",
        "outputId": "8674aaae-dea9-446f-946b-2c6251359d4a"
      },
      "execution_count": null,
      "outputs": [
        {
          "output_type": "stream",
          "name": "stdout",
          "text": [
            "{'brand': 'Ford', 'model': 'Mustang', 'color': 'red'}\n"
          ]
        }
      ]
    },
    {
      "cell_type": "code",
      "source": [
        "del thisdict ['color']\n",
        "# print(thisdict)"
      ],
      "metadata": {
        "id": "tjwmudS0zAOX"
      },
      "execution_count": null,
      "outputs": []
    },
    {
      "cell_type": "code",
      "source": [
        "print(thisdict)"
      ],
      "metadata": {
        "colab": {
          "base_uri": "https://localhost:8080/"
        },
        "id": "aIEpurbFFp2s",
        "outputId": "d60ac7b7-9aa4-4597-e86f-baf55bce7e09"
      },
      "execution_count": null,
      "outputs": [
        {
          "output_type": "stream",
          "name": "stdout",
          "text": [
            "{'brand': 'Ford', 'model': 'Mustang'}\n"
          ]
        }
      ]
    },
    {
      "cell_type": "code",
      "source": [
        "employees = {}\n",
        "\n",
        "for i in range(3):\n",
        "    name = input(\"Enter employee's name: \")\n",
        "    salary = int(input(\"Enter employee's salary: \"))\n",
        "\n",
        "    employees[name] = salary\n",
        "print(employees)\n",
        "\n"
      ],
      "metadata": {
        "colab": {
          "base_uri": "https://localhost:8080/"
        },
        "id": "NZvQ9XjiIbmn",
        "outputId": "204452ca-b75b-4847-f037-bdd362b36a99"
      },
      "execution_count": null,
      "outputs": [
        {
          "output_type": "stream",
          "name": "stdout",
          "text": [
            "Enter employee's name: Amal\n",
            "Enter employee's salary: 5\n",
            "Enter employee's name: Amal N\n",
            "Enter employee's salary: 3\n",
            "Enter employee's name: Amal Koodoruth\n",
            "Enter employee's salary: 7\n",
            "{'Amal': 5, 'Amal N': 3, 'Amal Koodoruth': 7}\n"
          ]
        }
      ]
    },
    {
      "cell_type": "markdown",
      "source": [
        "### JSON - JAVASCRIPT OBJECT NOTION\n",
        "\n",
        "Reading JSON and installing packages with Pip \\\\\n",
        "JSON is a syntax for storing and exchanging data. JSON is text, written with JavaScript object notation. Python has a built-in package called json, which can be used to work with JSON data.\n",
        "\n",
        "In JSON, data is represented in key-value pairs, and curly braces hold objects, where a colon is followed after each name. The comma is used to separate key-value pairs. Square brackets are used to hold arrays, where each value is comma-separated."
      ],
      "metadata": {
        "id": "K42viZkdMJG_"
      }
    },
    {
      "cell_type": "code",
      "source": [],
      "metadata": {
        "id": "ITgVC6o_gZmv"
      },
      "execution_count": null,
      "outputs": []
    },
    {
      "cell_type": "code",
      "source": [
        "# import requests module\n",
        "import requests\n",
        " \n",
        "# Making a get request\n",
        "response = requests.get('https://api.github.com')\n",
        " \n",
        "# print response\n",
        "print(response)\n",
        " \n",
        "# print json content\n",
        "print(response.json())"
      ],
      "metadata": {
        "colab": {
          "base_uri": "https://localhost:8080/"
        },
        "id": "pkqFzzIlabpP",
        "outputId": "328b677d-6d97-4adb-dd48-af1695409b1b"
      },
      "execution_count": 31,
      "outputs": [
        {
          "output_type": "stream",
          "name": "stdout",
          "text": [
            "<Response [200]>\n",
            "{'current_user_url': 'https://api.github.com/user', 'current_user_authorizations_html_url': 'https://github.com/settings/connections/applications{/client_id}', 'authorizations_url': 'https://api.github.com/authorizations', 'code_search_url': 'https://api.github.com/search/code?q={query}{&page,per_page,sort,order}', 'commit_search_url': 'https://api.github.com/search/commits?q={query}{&page,per_page,sort,order}', 'emails_url': 'https://api.github.com/user/emails', 'emojis_url': 'https://api.github.com/emojis', 'events_url': 'https://api.github.com/events', 'feeds_url': 'https://api.github.com/feeds', 'followers_url': 'https://api.github.com/user/followers', 'following_url': 'https://api.github.com/user/following{/target}', 'gists_url': 'https://api.github.com/gists{/gist_id}', 'hub_url': 'https://api.github.com/hub', 'issue_search_url': 'https://api.github.com/search/issues?q={query}{&page,per_page,sort,order}', 'issues_url': 'https://api.github.com/issues', 'keys_url': 'https://api.github.com/user/keys', 'label_search_url': 'https://api.github.com/search/labels?q={query}&repository_id={repository_id}{&page,per_page}', 'notifications_url': 'https://api.github.com/notifications', 'organization_url': 'https://api.github.com/orgs/{org}', 'organization_repositories_url': 'https://api.github.com/orgs/{org}/repos{?type,page,per_page,sort}', 'organization_teams_url': 'https://api.github.com/orgs/{org}/teams', 'public_gists_url': 'https://api.github.com/gists/public', 'rate_limit_url': 'https://api.github.com/rate_limit', 'repository_url': 'https://api.github.com/repos/{owner}/{repo}', 'repository_search_url': 'https://api.github.com/search/repositories?q={query}{&page,per_page,sort,order}', 'current_user_repositories_url': 'https://api.github.com/user/repos{?type,page,per_page,sort}', 'starred_url': 'https://api.github.com/user/starred{/owner}{/repo}', 'starred_gists_url': 'https://api.github.com/gists/starred', 'topic_search_url': 'https://api.github.com/search/topics?q={query}{&page,per_page}', 'user_url': 'https://api.github.com/users/{user}', 'user_organizations_url': 'https://api.github.com/user/orgs', 'user_repositories_url': 'https://api.github.com/users/{user}/repos{?type,page,per_page,sort}', 'user_search_url': 'https://api.github.com/search/users?q={query}{&page,per_page,sort,order}'}\n"
          ]
        }
      ]
    },
    {
      "cell_type": "code",
      "source": [
        "myresponse = response.json()"
      ],
      "metadata": {
        "id": "54YETdSJz6di"
      },
      "execution_count": null,
      "outputs": []
    },
    {
      "cell_type": "code",
      "source": [
        "list(myresponse.keys())"
      ],
      "metadata": {
        "colab": {
          "base_uri": "https://localhost:8080/"
        },
        "id": "rLE3pLLhz9Fw",
        "outputId": "1eaaf003-8094-48df-c3ec-6d52cc249265"
      },
      "execution_count": null,
      "outputs": [
        {
          "output_type": "execute_result",
          "data": {
            "text/plain": [
              "['current_user_url',\n",
              " 'current_user_authorizations_html_url',\n",
              " 'authorizations_url',\n",
              " 'code_search_url',\n",
              " 'commit_search_url',\n",
              " 'emails_url',\n",
              " 'emojis_url',\n",
              " 'events_url',\n",
              " 'feeds_url',\n",
              " 'followers_url',\n",
              " 'following_url',\n",
              " 'gists_url',\n",
              " 'hub_url',\n",
              " 'issue_search_url',\n",
              " 'issues_url',\n",
              " 'keys_url',\n",
              " 'label_search_url',\n",
              " 'notifications_url',\n",
              " 'organization_url',\n",
              " 'organization_repositories_url',\n",
              " 'organization_teams_url',\n",
              " 'public_gists_url',\n",
              " 'rate_limit_url',\n",
              " 'repository_url',\n",
              " 'repository_search_url',\n",
              " 'current_user_repositories_url',\n",
              " 'starred_url',\n",
              " 'starred_gists_url',\n",
              " 'topic_search_url',\n",
              " 'user_url',\n",
              " 'user_organizations_url',\n",
              " 'user_repositories_url',\n",
              " 'user_search_url']"
            ]
          },
          "metadata": {},
          "execution_count": 72
        }
      ]
    },
    {
      "cell_type": "markdown",
      "source": [
        "## pip\n",
        "\n",
        "PIP is a package manager for Python packages, or modules if you like.\n",
        "A package contains all the files you need for a module.\n",
        "Modules are Python code libraries you can include in your project."
      ],
      "metadata": {
        "id": "_2abW2U6bAK6"
      }
    },
    {
      "cell_type": "markdown",
      "source": [
        " Camelcase is a naming protocol for giving file or attribute names that contain more than one word joined that all start with a capital letter."
      ],
      "metadata": {
        "id": "S4JcXPkthJqZ"
      }
    },
    {
      "cell_type": "code",
      "source": [
        "pip install camelcase"
      ],
      "metadata": {
        "colab": {
          "base_uri": "https://localhost:8080/"
        },
        "id": "FTA7nFXlOUNS",
        "outputId": "7f688b14-01d3-4097-8382-6672e14e2305"
      },
      "execution_count": 32,
      "outputs": [
        {
          "output_type": "stream",
          "name": "stdout",
          "text": [
            "Looking in indexes: https://pypi.org/simple, https://us-python.pkg.dev/colab-wheels/public/simple/\n",
            "Collecting camelcase\n",
            "  Downloading camelcase-0.2.tar.gz (1.3 kB)\n",
            "  Preparing metadata (setup.py) ... \u001b[?25l\u001b[?25hdone\n",
            "Building wheels for collected packages: camelcase\n",
            "  Building wheel for camelcase (setup.py) ... \u001b[?25l\u001b[?25hdone\n",
            "  Created wheel for camelcase: filename=camelcase-0.2-py3-none-any.whl size=1788 sha256=2b854e029dfd468479398ceed874d13c37139d9f66842c69757bd56455e26232\n",
            "  Stored in directory: /root/.cache/pip/wheels/20/1a/a6/5651fe658d5ffd7fcf610723557f7b20a52a71d7e8e1849cb6\n",
            "Successfully built camelcase\n",
            "Installing collected packages: camelcase\n",
            "Successfully installed camelcase-0.2\n"
          ]
        }
      ]
    },
    {
      "cell_type": "code",
      "source": [
        "import camelcase\n",
        "\n",
        "c = camelcase.CamelCase()\n",
        "\n",
        "txt = \"hello world\"\n",
        "\n",
        "print (c.hump(txt))"
      ],
      "metadata": {
        "colab": {
          "base_uri": "https://localhost:8080/"
        },
        "id": "fPeqOPINMLr-",
        "outputId": "63a7f7de-b80b-495e-ed5f-eb1534200020"
      },
      "execution_count": 39,
      "outputs": [
        {
          "output_type": "stream",
          "name": "stdout",
          "text": [
            "Hello World\n"
          ]
        }
      ]
    },
    {
      "cell_type": "code",
      "source": [
        "pip install numpy"
      ],
      "metadata": {
        "colab": {
          "base_uri": "https://localhost:8080/"
        },
        "id": "F5zeAjPpHTty",
        "outputId": "77695608-7690-4c09-9309-424a25e3d531"
      },
      "execution_count": 34,
      "outputs": [
        {
          "output_type": "stream",
          "name": "stdout",
          "text": [
            "Looking in indexes: https://pypi.org/simple, https://us-python.pkg.dev/colab-wheels/public/simple/\n",
            "Requirement already satisfied: numpy in /usr/local/lib/python3.8/dist-packages (1.22.4)\n"
          ]
        }
      ]
    },
    {
      "cell_type": "code",
      "source": [
        "import numpy as np"
      ],
      "metadata": {
        "id": "OhYZMvafHYPs"
      },
      "execution_count": 35,
      "outputs": []
    },
    {
      "cell_type": "code",
      "source": [
        "np.array([i for i in range(5)])"
      ],
      "metadata": {
        "colab": {
          "base_uri": "https://localhost:8080/"
        },
        "id": "F0kEwE0IHgPE",
        "outputId": "bf48d2bc-57a4-4fe1-8ef3-d3ef0e06393d"
      },
      "execution_count": null,
      "outputs": [
        {
          "output_type": "execute_result",
          "data": {
            "text/plain": [
              "array([0, 1, 2, 3, 4])"
            ]
          },
          "metadata": {},
          "execution_count": 77
        }
      ]
    },
    {
      "cell_type": "markdown",
      "source": [
        "## Function\n",
        "\n",
        "Function is a block of code which only runs when it is called.\n",
        "\n",
        "You can pass data, known as parameters, into a function.\n",
        "\n",
        "A function can return data as a result.\n",
        "\n",
        "In Python a function is defined using the `def` keyword:"
      ],
      "metadata": {
        "id": "ZqmBGXXFesNK"
      }
    },
    {
      "cell_type": "code",
      "source": [
        "def my_function():\n",
        "  print(\"Hello from a function\")\n"
      ],
      "metadata": {
        "id": "PFscstXie157"
      },
      "execution_count": null,
      "outputs": []
    },
    {
      "cell_type": "code",
      "source": [
        "#To call a function, use the function name followed by parenthesis:\n",
        "\n",
        "def my_function():\n",
        "  print(\"Hello from a function\")\n",
        "\n",
        "my_function()"
      ],
      "metadata": {
        "colab": {
          "base_uri": "https://localhost:8080/"
        },
        "id": "utbQvq__MIwx",
        "outputId": "743bd926-0050-4764-eb82-1f239be0cac6"
      },
      "execution_count": null,
      "outputs": [
        {
          "output_type": "stream",
          "name": "stdout",
          "text": [
            "Hello from a function\n"
          ]
        }
      ]
    },
    {
      "cell_type": "markdown",
      "source": [
        "From a function's perspective:\n",
        "\n",
        "Parameter is the variable specified in the defintion of the function\n",
        "\n",
        "Argument is the value parsed into a function when it is called"
      ],
      "metadata": {
        "id": "ZDXhkMPUffoq"
      }
    },
    {
      "cell_type": "code",
      "source": [
        "def my_function(fname, lname):\n",
        "  print(fname + \" \" + lname)\n",
        "\n",
        "my_function(\"Joe\", \"Smith\")"
      ],
      "metadata": {
        "colab": {
          "base_uri": "https://localhost:8080/"
        },
        "id": "7J-0kAcMfiv-",
        "outputId": "a18814b9-c9f3-4358-e480-5ff9d3ce605b"
      },
      "execution_count": null,
      "outputs": [
        {
          "output_type": "stream",
          "name": "stdout",
          "text": [
            "Joe Smith\n"
          ]
        }
      ]
    },
    {
      "cell_type": "markdown",
      "source": [
        "Adding numbers in a list"
      ],
      "metadata": {
        "id": "AVmVp2OTg4S8"
      }
    },
    {
      "cell_type": "code",
      "source": [
        "def mysum(numbers):\n",
        "    # DIY\n",
        "    return\n",
        "print(mysum([8, 2, 3, 0, 7]))"
      ],
      "metadata": {
        "colab": {
          "base_uri": "https://localhost:8080/"
        },
        "id": "ZY04oxZWhQZX",
        "outputId": "98e8173b-2a2b-4b33-828a-5d7e8170ec4c"
      },
      "execution_count": null,
      "outputs": [
        {
          "output_type": "stream",
          "name": "stdout",
          "text": [
            "None\n"
          ]
        }
      ]
    },
    {
      "cell_type": "markdown",
      "source": [
        "Calculator"
      ],
      "metadata": {
        "id": "iK2aAhBWg1jg"
      }
    },
    {
      "cell_type": "code",
      "source": [
        "def add(P, Q):    \n",
        "   # This function is used for adding two numbers   \n",
        "   return P + Q   \n",
        "def subtract(P, Q):   \n",
        "   # This function is used for subtracting two numbers   \n",
        "   return P - Q   \n",
        "def multiply(P, Q):   \n",
        "   # This function is used for multiplying two numbers   \n",
        "   return P * Q   \n",
        "def divide(P, Q):   \n",
        "   # This function is used for dividing two numbers    \n",
        "   return P / Q    \n",
        "# Now we will take inputs from the user    \n",
        "print (\"Please select the operation.\")    \n",
        "print (\"a. Add\")    \n",
        "print (\"b. Subtract\")    \n",
        "print (\"c. Multiply\")    \n",
        "print (\"d. Divide\")    \n",
        "    \n",
        "choice = input(\"Please enter choice (a/ b/ c/ d): \")    \n",
        "    \n",
        "num_1 = int (input (\"Please enter the first number: \"))    \n",
        "num_2 = int (input (\"Please enter the second number: \"))    \n",
        "    \n",
        "if choice == 'a':    \n",
        "   print (num_1, \" + \", num_2, \" = \", add(num_1, num_2))    \n",
        "    \n",
        "elif choice == 'b':    \n",
        "   print (num_1, \" - \", num_2, \" = \", subtract(num_1, num_2))    \n",
        "    \n",
        "elif choice == 'c':    \n",
        "   print (num_1, \" * \", num_2, \" = \", multiply(num_1, num_2))    \n",
        "elif choice == 'd':    \n",
        "   print (num_1, \" / \", num_2, \" = \", divide(num_1, num_2))    \n",
        "else:    \n",
        "   print (\"This is an invalid input\") \n"
      ],
      "metadata": {
        "colab": {
          "base_uri": "https://localhost:8080/"
        },
        "id": "z2fdk-sbgK5W",
        "outputId": "a126594e-736b-4f90-de20-b2f6a6bbcc6f"
      },
      "execution_count": null,
      "outputs": [
        {
          "output_type": "stream",
          "name": "stdout",
          "text": [
            "Please select the operation.\n",
            "a. Add\n",
            "b. Subtract\n",
            "c. Multiply\n",
            "d. Divide\n",
            "Please enter choice (a/ b/ c/ d): a\n",
            "Please enter the first number: 2\n",
            "Please enter the second number: 4\n",
            "2  +  4  =  6\n"
          ]
        }
      ]
    },
    {
      "cell_type": "code",
      "source": [],
      "metadata": {
        "id": "Lo3MazxK3-Q-"
      },
      "execution_count": null,
      "outputs": []
    }
  ]
}