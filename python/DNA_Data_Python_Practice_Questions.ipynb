{
  "nbformat": 4,
  "nbformat_minor": 0,
  "metadata": {
    "colab": {
      "provenance": []
    },
    "kernelspec": {
      "name": "python3",
      "display_name": "Python 3"
    },
    "language_info": {
      "name": "python"
    }
  },
  "cells": [
    {
      "cell_type": "markdown",
      "source": [
        "Q1. Given an array of ints, return True if 6 appears as either the first or last element in the array.<br>\n",
        "The array will be length 1 or more.<br>\n",
        "\n",
        "1. first_last6([1, 2, 6]) → True\n",
        "2. first_last6([6, 1, 2, 3]) → True\n",
        "3. first_last6([13, 6, 1, 2, 3]) → False"
      ],
      "metadata": {
        "id": "AX6Qy4uQa9WQ"
      }
    },
    {
      "cell_type": "code",
      "source": [
        "def first_last6(aList, number=6):\n",
        "    assert len(aList) > 1, \"Array must be of length 1 or more\"\n",
        "    return number == aList[0] or number == aList[-1]\n",
        "\n",
        "list(map(first_last6, ([1,2,6], [6,1,2,3], [13,6,1,2,3])))\n"
      ],
      "metadata": {
        "colab": {
          "base_uri": "https://localhost:8080/"
        },
        "id": "-6NtPCk_ZwsH",
        "outputId": "8d93f134-0049-483d-f05c-633013035f20"
      },
      "execution_count": null,
      "outputs": [
        {
          "output_type": "execute_result",
          "data": {
            "text/plain": [
              "[True, True, False]"
            ]
          },
          "metadata": {},
          "execution_count": 66
        }
      ]
    },
    {
      "cell_type": "markdown",
      "source": [
        "Q2. Given 2 arrays of ints, a and b, return True if they have the same first element or they have the same last element. <br>\n",
        "Both arrays will be length 1 or more.<br>\n",
        "1. common_end([1, 2, 3], [7, 3]) → True\n",
        "2. common_end([1, 2, 3], [7, 3, 2]) → False\n",
        "3. common_end([1, 2, 3], [1, 3]) → True"
      ],
      "metadata": {
        "id": "lnCfhLXbfo69"
      }
    },
    {
      "cell_type": "code",
      "source": [
        "def common_end(aList, bList):\n",
        "    assert len(aList) > 1 and len(bList) > 1, \"Both arrays must be of legnth 1 or more\"\n",
        "    return aList[0] == bList[0] or aList[-1] == bList[-1]\n",
        "\n",
        "list(map(common_end, ([1,2,3], [1,2,3], [1,2,3]), ([7, 3], [7, 3, 2], [1, 3])))\n",
        "# common_end([1,2,3],[7,3])\n",
        "# common_end([1,2,3],[7,3, 2])\n",
        "# common_end([1,2,3],[1,3])"
      ],
      "metadata": {
        "colab": {
          "base_uri": "https://localhost:8080/"
        },
        "id": "GX49GfjZeUZ6",
        "outputId": "13d8b741-9c30-4e45-f093-9804731b1a95"
      },
      "execution_count": null,
      "outputs": [
        {
          "output_type": "execute_result",
          "data": {
            "text/plain": [
              "[True, False, True]"
            ]
          },
          "metadata": {},
          "execution_count": 67
        }
      ]
    },
    {
      "cell_type": "markdown",
      "source": [
        "Q3. Given an array of ints length 3, return an array with the elements \"rotated left\" so {1, 2, 3} yields {2, 3, 1} <br>\n",
        "1. rotate_left3([1, 2, 3]) → [2, 3, 1]\n",
        "2. rotate_left3([5, 11, 9]) → [11, 9, 5]\n",
        "3. rotate_left3([7, 0, 0]) → [0, 0, 7]"
      ],
      "metadata": {
        "id": "qZc_bDDKOPts"
      }
    },
    {
      "cell_type": "code",
      "source": [
        "def rotate_left(aList):\n",
        "    aList.append(aList.pop(0))\n",
        "    return aList.copy()\n",
        "\n",
        "list(map(rotate_left, ([1,2,3], [5,11,9], [7, 0, 0])))"
      ],
      "metadata": {
        "colab": {
          "base_uri": "https://localhost:8080/"
        },
        "id": "DqVVeYnPOapX",
        "outputId": "ec2fa340-1a9b-4dba-e722-1a5be42480f8"
      },
      "execution_count": null,
      "outputs": [
        {
          "output_type": "execute_result",
          "data": {
            "text/plain": [
              "[[2, 3, 1], [11, 9, 5], [0, 0, 7]]"
            ]
          },
          "metadata": {},
          "execution_count": 68
        }
      ]
    },
    {
      "cell_type": "markdown",
      "source": [
        "Q4. Given an array length 1 or more of ints, return the difference between the largest and smallest values in the array. <br>Note: the built-in min(v1, v2) and max(v1, v2) functions return the smaller or larger of two values.<br>\n",
        "1. big_diff([10, 3, 5, 6]) → 7\n",
        "2. big_diff([7, 2, 10, 9]) → 8\n",
        "3. big_diff([2, 10, 7, 2]) → 8"
      ],
      "metadata": {
        "id": "mimYERgMPcat"
      }
    },
    {
      "cell_type": "code",
      "source": [
        "def big_diff(aList):\n",
        "    return max(aList) - min(aList)\n",
        "\n",
        "list(map(big_diff, ([10, 3, 5, 6], [7, 2, 10, 9], [2, 10, 7, 2])))"
      ],
      "metadata": {
        "colab": {
          "base_uri": "https://localhost:8080/"
        },
        "id": "MD_dEpncPkVy",
        "outputId": "d6ccefd7-4c70-4bc2-bd80-1769f244cfca"
      },
      "execution_count": null,
      "outputs": [
        {
          "output_type": "execute_result",
          "data": {
            "text/plain": [
              "[7, 8, 8]"
            ]
          },
          "metadata": {},
          "execution_count": 69
        }
      ]
    },
    {
      "cell_type": "markdown",
      "source": [
        "Q5. Given an array of ints, return True if the array contains a 2 next to a 2 somewhere.\n",
        "1. has22([1, 2, 2]) → True\n",
        "2. has22([1, 2, 1, 2]) → False\n",
        "3. has22([2, 1, 2]) → False"
      ],
      "metadata": {
        "id": "RIZHUe88RBf3"
      }
    },
    {
      "cell_type": "code",
      "source": [
        "def has22(aList):\n",
        "    return any(a == 2 and b == 2 for (a, b) in zip(aList[:-1], aList[1:]))\n",
        "\n",
        "list(map(has22, ([1,2,2], [1,2,1,2], [2,1,2])))"
      ],
      "metadata": {
        "colab": {
          "base_uri": "https://localhost:8080/"
        },
        "id": "6RFp0Qc8RF8W",
        "outputId": "2caebe04-48ab-4d67-d5f4-9cbd49bc98c3"
      },
      "execution_count": null,
      "outputs": [
        {
          "output_type": "execute_result",
          "data": {
            "text/plain": [
              "[True, False, False]"
            ]
          },
          "metadata": {},
          "execution_count": 70
        }
      ]
    },
    {
      "cell_type": "markdown",
      "source": [
        "Q6. We want to make a package of goal kilos of chocolate. We have small bars (1 kilo each) and big bars (5 kilos each). <br>\n",
        "Return the number of small bars to use, assuming we always use big\n",
        "bars before small bars. Return -1 if it can't be done.\n",
        "1. make_chocolate(4, 1, 9) → 4\n",
        "2. make_chocolate(4, 1, 10) → -1\n",
        "3. make_chocolate(4, 1, 7) → 2"
      ],
      "metadata": {
        "id": "-I6LoV1JV-84"
      }
    },
    {
      "cell_type": "code",
      "source": [
        "def make_chololate(aList):\n",
        "    num_of_small_bars = sum(aList) % 5 \n",
        "    return num_of_small_bars if num_of_small_bars else -1\n",
        "    \n",
        "list(map(make_chololate, ([(4, 1, 9), (4, 1, 10), (4, 1, 7)])))"
      ],
      "metadata": {
        "colab": {
          "base_uri": "https://localhost:8080/"
        },
        "id": "RH0lY3ODWM-9",
        "outputId": "6be5e89b-5cd0-4813-9f11-5782316cbd39"
      },
      "execution_count": null,
      "outputs": [
        {
          "output_type": "execute_result",
          "data": {
            "text/plain": [
              "[4, -1, 2]"
            ]
          },
          "metadata": {},
          "execution_count": 71
        }
      ]
    },
    {
      "cell_type": "markdown",
      "source": [
        "Q7. The web is built with HTML strings like \"<i>Yay</i>\" which draws Yay as italic text. <br> In this\n",
        "example, the \"i\" tag makes <i> and </i> which surround the word \"Yay\". <br>Given tag and word\n",
        "strings, create the HTML string with tags around the word, e.g. \"<i>Yay</i>\".\n",
        "1. make_tags('i', 'Yay') → '<i>Yay</i>'\n",
        "2. make_tags('i', 'Hello') → '<i>Hello</i>'\n",
        "3. make_tags('cite', 'Yay') → '<cite>Yay</cite>'"
      ],
      "metadata": {
        "id": "_piEaYvDX4up"
      }
    },
    {
      "cell_type": "code",
      "source": [
        "def make_tags(tag_name, innerHTML):\n",
        "    return f\"<{tag_name}>{innerHTML}</{tag_name}>\"\n",
        "\n",
        "list(map(make_tags, ([\"i\", \"i\", \"cite\"]), ([\"Yay\", \"Hello\", \"Yay\"])))"
      ],
      "metadata": {
        "colab": {
          "base_uri": "https://localhost:8080/"
        },
        "id": "NbDRlBhKX3k5",
        "outputId": "5a0d2ef1-face-426d-c089-1a6485adf61b"
      },
      "execution_count": null,
      "outputs": [
        {
          "output_type": "execute_result",
          "data": {
            "text/plain": [
              "['<i>Yay</i>', '<i>Hello</i>', '<cite>Yay</cite>']"
            ]
          },
          "metadata": {},
          "execution_count": 72
        }
      ]
    },
    {
      "cell_type": "markdown",
      "source": [
        "Q8. Given an array of ints, return True if the sequence of numbers 1, 2, 3 appears in the array somewhere. <br>\n",
        "1. array123([1, 1, 2, 3, 1]) → True\n",
        "2. array123([1, 1, 2, 4, 1]) → False\n",
        "3. array123([1, 1, 2, 1, 2, 3]) → True"
      ],
      "metadata": {
        "id": "TQ6H7SdLZE2M"
      }
    },
    {
      "cell_type": "code",
      "source": [
        "def array123(aList):\n",
        "    return any(aList[i:i+3] == [1, 2, 3] for i in range(len(aList) - 2))\n",
        "\n",
        "list(map(array123, ([1,1,2,3,1], [1,1,2,4,1], [1,1,2,1,2,3])))"
      ],
      "metadata": {
        "colab": {
          "base_uri": "https://localhost:8080/"
        },
        "id": "k4KiGmtSZawH",
        "outputId": "bc7ba775-27e6-4036-88b4-913ea40ba84e"
      },
      "execution_count": null,
      "outputs": [
        {
          "output_type": "execute_result",
          "data": {
            "text/plain": [
              "[True, False, True]"
            ]
          },
          "metadata": {},
          "execution_count": 73
        }
      ]
    },
    {
      "cell_type": "markdown",
      "source": [
        "Q9. Given 2 strings, a and b, return the number of the positions where they contain the same length 2 substring.<br> So \"xxcaazz\" and \"xxbaaz\" yields 3, since the \"xx\", \"aa\", and \"az\" substrings appear in the same place in both strings.<br>\n",
        "1. string_match('xxcaazz', 'xxbaaz') → 3\n",
        "2. string_match('abc', 'abc') → 2\n",
        "3. string_match('abc', 'axc') → 0"
      ],
      "metadata": {
        "id": "9Fb0iKTBaevv"
      }
    },
    {
      "cell_type": "code",
      "source": [
        "def string_match(a, b):\n",
        "    # assuming that a and b are not of the same length\n",
        "    return sum(a[i:i+2] == b[i:i+2] for i in range(max(len(a), len(b)) - 1))\n",
        "\n",
        "list(map(string_match, (\"xxcaazz\", \"abc\", \"abc\"), (\"xxbaaz\", \"abc\", \"axc\")))"
      ],
      "metadata": {
        "colab": {
          "base_uri": "https://localhost:8080/"
        },
        "id": "3nVPzZJIaLV_",
        "outputId": "d30f9ec2-32b1-4e69-a237-43dbe5b0bb4d"
      },
      "execution_count": null,
      "outputs": [
        {
          "output_type": "execute_result",
          "data": {
            "text/plain": [
              "[3, 2, 0]"
            ]
          },
          "metadata": {},
          "execution_count": 74
        }
      ]
    },
    {
      "cell_type": "markdown",
      "source": [
        "Q.10 Given a string, return a new string where the first and last chars have been exchanged.<br>\n",
        "1. front_back('code') → 'eodc'\n",
        "2. front_back('a') → 'a'\n",
        "3. front_back('ab') → 'ba'"
      ],
      "metadata": {
        "id": "6uTM-Em_eJrd"
      }
    },
    {
      "cell_type": "code",
      "source": [
        "def front_back(a):\n",
        "    if len(a) < 2:\n",
        "        return a\n",
        "    return \"\".join(a[-1] + a[1:-1] + a[0])\n",
        "\n",
        "list(map(front_back, (\"code\", \"a\", \"ab\")))"
      ],
      "metadata": {
        "colab": {
          "base_uri": "https://localhost:8080/"
        },
        "id": "7fWppl5Lbxjl",
        "outputId": "ff7ac7ac-454d-49ef-fd37-f313ba46b27f"
      },
      "execution_count": null,
      "outputs": [
        {
          "output_type": "execute_result",
          "data": {
            "text/plain": [
              "['eodc', 'a', 'ba']"
            ]
          },
          "metadata": {},
          "execution_count": 75
        }
      ]
    }
  ]
}